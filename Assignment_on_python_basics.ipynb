{
  "nbformat": 4,
  "nbformat_minor": 0,
  "metadata": {
    "colab": {
      "provenance": [],
      "authorship_tag": "ABX9TyNGZKI8TjMlP9DKXKVGnFvW",
      "include_colab_link": true
    },
    "kernelspec": {
      "name": "python3",
      "display_name": "Python 3"
    },
    "language_info": {
      "name": "python"
    }
  },
  "cells": [
    {
      "cell_type": "markdown",
      "metadata": {
        "id": "view-in-github",
        "colab_type": "text"
      },
      "source": [
        "<a href=\"https://colab.research.google.com/github/FaisalNabil/PMASDS04_assignment_python_basic/blob/main/Assignment_on_python_basics.ipynb\" target=\"_parent\"><img src=\"https://colab.research.google.com/assets/colab-badge.svg\" alt=\"Open In Colab\"/></a>"
      ]
    },
    {
      "cell_type": "code",
      "source": [
        "# required library for data analysis\n",
        "import datetime\n",
        "import pandas as pd\n",
        "import numpy as np"
      ],
      "metadata": {
        "id": "P6rSTf8x4NcC"
      },
      "execution_count": 5,
      "outputs": []
    },
    {
      "cell_type": "markdown",
      "source": [
        "1. Write a Python program to count the number of characters (character frequency) in a string. \n",
        "\n",
        "Sample String : google.com\n",
        "\n",
        "Expected Result : {'o': 3, 'g': 2, '.': 1, 'e': 1, 'l': 1, 'm': 1, 'c': 1}"
      ],
      "metadata": {
        "id": "cRBN0oGI3W5a"
      }
    },
    {
      "cell_type": "code",
      "execution_count": 6,
      "metadata": {
        "colab": {
          "base_uri": "https://localhost:8080/"
        },
        "id": "JQs4_3V12U9j",
        "outputId": "8367531a-9ebe-4471-bd9e-9518dae4b94b"
      },
      "outputs": [
        {
          "output_type": "stream",
          "name": "stdout",
          "text": [
            "{'g': 2, 'o': 3, 'l': 1, 'e': 1, '.': 1, 'c': 1, 'm': 1}\n"
          ]
        }
      ],
      "source": [
        "string = \"google.com\"\n",
        "char_freq = {}\n",
        "\n",
        "for char in string:\n",
        "    if char in char_freq:\n",
        "        char_freq[char] += 1\n",
        "    else:\n",
        "        char_freq[char] = 1\n",
        "\n",
        "print(char_freq)"
      ]
    },
    {
      "cell_type": "markdown",
      "source": [
        "2. Write a Python program to check if a given key already exists in a dictionary."
      ],
      "metadata": {
        "id": "4pFy5QsW5Uw6"
      }
    },
    {
      "cell_type": "code",
      "source": [
        "def CheckKey(my_dict, checking_key):\n",
        "    if checking_key in my_dict:\n",
        "        return True\n",
        "    else:\n",
        "        return False\n",
        "        \n",
        "key_dict = {'apple': 1, 'banana': 2, 'orange': 3}\n",
        "checking_key = 'banana'\n",
        "\n",
        "if CheckKey(key_dict, checking_key):\n",
        "    print(checking_key, \"key exists in the dictionary.\")\n",
        "else:\n",
        "    print(checking_key, \"key does not exist in the dictionary.\")"
      ],
      "metadata": {
        "colab": {
          "base_uri": "https://localhost:8080/"
        },
        "id": "T3tFj9Kf5Xvf",
        "outputId": "3bf76953-fe84-4e25-87ab-6c20463dbfb6"
      },
      "execution_count": 7,
      "outputs": [
        {
          "output_type": "stream",
          "name": "stdout",
          "text": [
            "banana key exists in the dictionary.\n"
          ]
        }
      ]
    },
    {
      "cell_type": "markdown",
      "source": [
        "3. Write a Python program that accepts a sequence of comma-separated numbers from the user and generates a list and a tuple of those numbers.\n",
        " \n",
        "Sample data : 1, 5, 7, 23\n",
        "\n",
        "Expected Output :\n",
        "List : ['1', ' 5', ' 7', ' 23']\n",
        "\n",
        "Tuple : ('1', ' 5', ' 7', ' 23')"
      ],
      "metadata": {
        "id": "wAPwol4Ziw1v"
      }
    },
    {
      "cell_type": "code",
      "source": [
        "numbers = input(\"Enter numbers: \")\n",
        "num_list = numbers.split(\",\")\n",
        "num_tuple = tuple(num_list)\n",
        "print(\"List: \", [num.strip() for num in num_list])\n",
        "print(\"Tuple: \", tuple(num.strip() for num in num_tuple))"
      ],
      "metadata": {
        "colab": {
          "base_uri": "https://localhost:8080/"
        },
        "id": "Zu1g-YVAj8Oy",
        "outputId": "b2ad4808-0f9b-4bfd-f2a2-a03d0a45397e"
      },
      "execution_count": 8,
      "outputs": [
        {
          "output_type": "stream",
          "name": "stdout",
          "text": [
            "Enter numbers: 1,25,554,21,565,11,39,78\n",
            "List:  ['1', '25', '554', '21', '565', '11', '39', '78']\n",
            "Tuple:  ('1', '25', '554', '21', '565', '11', '39', '78')\n"
          ]
        }
      ]
    },
    {
      "cell_type": "markdown",
      "source": [
        "4. Write a Python program to calculate the number of days between two dates. \n",
        "\n",
        "Sample dates : (2014, 7, 2), (2014, 7, 11)\n",
        "\n",
        "Expected output : 9 days"
      ],
      "metadata": {
        "id": "04Ds00eGkxVE"
      }
    },
    {
      "cell_type": "code",
      "source": [
        "date1 = datetime.date(2014, 7, 2)\n",
        "date2 = datetime.date(2014, 7, 11)\n",
        "\n",
        "dateDiff = date2 - date1\n",
        "\n",
        "print(dateDiff.days, \"days\")"
      ],
      "metadata": {
        "colab": {
          "base_uri": "https://localhost:8080/"
        },
        "id": "Bt0Bxs3qk7vz",
        "outputId": "297c3081-80c0-42c2-95de-04757eb6499c"
      },
      "execution_count": 10,
      "outputs": [
        {
          "output_type": "stream",
          "name": "stdout",
          "text": [
            "9 days\n"
          ]
        }
      ]
    },
    {
      "cell_type": "markdown",
      "source": [
        "5. Write a Python program to solve (x + y) * (x + y). \n",
        "\n",
        "Test Data : x = 4, y = 3\n",
        "\n",
        "Expected Output : (4 + 3) ^ 2) = 49"
      ],
      "metadata": {
        "id": "1wgVw9I9rtsM"
      }
    },
    {
      "cell_type": "code",
      "source": [
        "def sum_square(x, y):\n",
        "    result = (x + y) * (x + y)\n",
        "    return result\n",
        "\n",
        "x = 4\n",
        "y = 3\n",
        "\n",
        "result = sum_square(x, y)\n",
        "print(f\"({x} + {y}) ^ 2 = {result}\")"
      ],
      "metadata": {
        "colab": {
          "base_uri": "https://localhost:8080/"
        },
        "id": "whsdkRpbr9QV",
        "outputId": "c75699c0-bb97-4142-f56f-15f5c0c50c06"
      },
      "execution_count": 11,
      "outputs": [
        {
          "output_type": "stream",
          "name": "stdout",
          "text": [
            "(4 + 3) ^ 2 = 49\n"
          ]
        }
      ]
    },
    {
      "cell_type": "markdown",
      "source": [
        "6. Write a Python program to compute the future value of a specified principal amount, rate of interest, and number of years. \n",
        "\n",
        "Test Data : amt = 10000, int = 3.5, years = 7\n",
        "\n",
        "Expected Output : 12722.79"
      ],
      "metadata": {
        "id": "C7IdjKA6sfh3"
      }
    },
    {
      "cell_type": "markdown",
      "source": [
        "Future Value Formula (FV)\n",
        "The formula used to calculate the future value is shown below.\n",
        "\n",
        "Future Value (FV) = PV × (1 + r) ^ n\n",
        "Where:\n",
        "\n",
        "PV = Present Value\n",
        "r = Interest Rate (%)\n",
        "n = Number of Compounding Periods\n",
        "\n",
        "Source: https://www.wallstreetprep.com/knowledge/future-value-fv/"
      ],
      "metadata": {
        "id": "Tls9iaz5tuC6"
      }
    },
    {
      "cell_type": "code",
      "source": [
        "def future_value(principal, int, years):\n",
        "    return principal * (1 + int / 100) ** years\n",
        "\n",
        "amt = 10000\n",
        "int = 3.5\n",
        "years = 7\n",
        "\n",
        "result = future_value(amt, int, years)\n",
        "print(f\"Future Value: {result:.2f}\")"
      ],
      "metadata": {
        "colab": {
          "base_uri": "https://localhost:8080/"
        },
        "id": "0aqxAabFsksT",
        "outputId": "923ebb1b-28e7-4fa8-be7d-80b1284628ae"
      },
      "execution_count": 14,
      "outputs": [
        {
          "output_type": "stream",
          "name": "stdout",
          "text": [
            "Future Value: 12722.79\n"
          ]
        }
      ]
    },
    {
      "cell_type": "markdown",
      "source": [
        "7. Write a Python program that removes duplicate elements from a given array of numbers so\n",
        "that each element appears only once and returns the new length of the array. \n",
        "\n",
        "Sample Input: [0,0,1,1,2,2,3,3,4,4,4]\n",
        "\n",
        "Sample Output:\n",
        "The list of unique numbers: [0,1,2,3,4]\n",
        "\n",
        "length of the unique list : 5"
      ],
      "metadata": {
        "id": "H1fZvC76uAZK"
      }
    },
    {
      "cell_type": "code",
      "source": [
        "def remove_duplicates(numbers):\n",
        "    unique_numbers = []\n",
        "    for number in numbers:\n",
        "        if number not in unique_numbers:\n",
        "            unique_numbers.append(number)\n",
        "    return unique_numbers\n",
        "\n",
        "input_list = [0, 0, 1, 1, 2, 2, 3, 3, 4, 4, 4]\n",
        "unique_list = remove_duplicates(input_list)\n",
        "\n",
        "print(f\"The list of unique numbers: {unique_list}\")\n",
        "print(f\"Length of the unique list: {len(unique_list)}\")"
      ],
      "metadata": {
        "colab": {
          "base_uri": "https://localhost:8080/"
        },
        "id": "C34uS3UguFG2",
        "outputId": "d304f8d2-f6e4-40ff-c940-2bd13bced4b2"
      },
      "execution_count": 15,
      "outputs": [
        {
          "output_type": "stream",
          "name": "stdout",
          "text": [
            "The list of unique numbers: [0, 1, 2, 3, 4]\n",
            "Length of the unique list: 5\n"
          ]
        }
      ]
    },
    {
      "cell_type": "markdown",
      "source": [
        "8. Write a Python program to sort (ascending and descending) a dictionary by key value. "
      ],
      "metadata": {
        "id": "bDXix5LRuVgj"
      }
    },
    {
      "cell_type": "code",
      "source": [
        "def sort_dict(dictionary, descending=False):\n",
        "    return dict(sorted(dictionary.items(), key=lambda item: item[0], reverse=descending))\n",
        "\n",
        "sample_dict = {'one': 1, 'three': 3, 'five': 5, 'two': 2, 'four': 4}\n",
        "\n",
        "sorted_dict_asc = sort_dict(sample_dict)\n",
        "print(f\"Dictionary sorted in ascending order: {sorted_dict_asc}\")\n",
        "\n",
        "sorted_dict_desc = sort_dict(sample_dict, descending=True)\n",
        "print(f\"Dictionary sorted in descending order: {sorted_dict_desc}\")"
      ],
      "metadata": {
        "colab": {
          "base_uri": "https://localhost:8080/"
        },
        "id": "HxMTB0lJuXKb",
        "outputId": "535bcdec-66b7-438c-98a1-f9f727a7791e"
      },
      "execution_count": 16,
      "outputs": [
        {
          "output_type": "stream",
          "name": "stdout",
          "text": [
            "Dictionary sorted in ascending order: {'five': 5, 'four': 4, 'one': 1, 'three': 3, 'two': 2}\n",
            "Dictionary sorted in descending order: {'two': 2, 'three': 3, 'one': 1, 'four': 4, 'five': 5}\n"
          ]
        }
      ]
    },
    {
      "cell_type": "markdown",
      "source": [
        "9. Write a Python program to add key to a dictionary. Go to the editor\n",
        "Sample Dictionary : {0: 10, 1: 20}\n",
        "Expected Result : {0: 10, 1: 20, 2: 30}"
      ],
      "metadata": {
        "id": "LF5MA-mzutAP"
      }
    },
    {
      "cell_type": "code",
      "source": [
        "def add_key_to_dict(dictionary, key, value):\n",
        "    dictionary[key] = value\n",
        "    return dictionary\n",
        "\n",
        "sample_dict = {0: 10, 1: 20}\n",
        "\n",
        "new_key = 2\n",
        "new_value = 30\n",
        "\n",
        "updated_dict = add_key_to_dict(sample_dict, new_key, new_value)\n",
        "print(f\"Updated dictionary: {updated_dict}\")"
      ],
      "metadata": {
        "colab": {
          "base_uri": "https://localhost:8080/"
        },
        "id": "1aejdENvvddx",
        "outputId": "f5b7226b-6028-4a1d-ed41-32077023dff3"
      },
      "execution_count": 17,
      "outputs": [
        {
          "output_type": "stream",
          "name": "stdout",
          "text": [
            "Updated dictionary: {0: 10, 1: 20, 2: 30}\n"
          ]
        }
      ]
    },
    {
      "cell_type": "markdown",
      "source": [
        "10. Write a Pandas program to create and display a DataFrame from a specified dictionary data\n",
        "which has the index labels. \n",
        "\n",
        "Sample Python dictionary data and list labels:\n",
        "exam_data = {'name': ['Arif', 'Asir', 'Arik', 'Anis', 'Anil', 'Ashish', 'Anahi', 'Alia', 'Alvin', 'Asim'],\n",
        "'score': [12.5, 9, 16.5, np.nan, 9, 20, 14.5, np.nan, 8, 19],\n",
        "'attempts': [1, 3, 2, 3, 2, 3, 1, 1, 2, 1],\n",
        "'qualify': ['yes', 'no', 'yes', 'no', 'no', 'yes', 'yes', 'no', 'no', 'yes']}\n",
        "labels = ['a', 'b', 'c', 'd', 'e', 'f', 'g', 'h', 'i', 'j']"
      ],
      "metadata": {
        "id": "wLAruVpFvs6n"
      }
    },
    {
      "cell_type": "code",
      "source": [
        "import pandas as pd\n",
        "import numpy as np\n",
        "\n",
        "exam_data = {'name': ['Arif', 'Asir', 'Arik', 'Anis', 'Anil', 'Ashish', 'Anahi', 'Alia', 'Alvin', 'Asim'],\n",
        "             'score': [12.5, 9, 16.5, np.nan, 9, 20, 14.5, np.nan, 8, 19],\n",
        "             'attempts': [1, 3, 2, 3, 2, 3, 1, 1, 2, 1],\n",
        "             'qualify': ['yes', 'no', 'yes', 'no', 'no', 'yes', 'yes', 'no', 'no', 'yes']}\n",
        "labels = ['a', 'b', 'c', 'd', 'e', 'f', 'g', 'h', 'i', 'j']\n",
        "\n",
        "df = pd.DataFrame(exam_data, index=labels)\n",
        "print(df)"
      ],
      "metadata": {
        "colab": {
          "base_uri": "https://localhost:8080/"
        },
        "id": "HF3Ob30uxNJq",
        "outputId": "355feaf8-c598-435c-e155-462b267d5322"
      },
      "execution_count": 18,
      "outputs": [
        {
          "output_type": "stream",
          "name": "stdout",
          "text": [
            "     name  score  attempts qualify\n",
            "a    Arif   12.5         1     yes\n",
            "b    Asir    9.0         3      no\n",
            "c    Arik   16.5         2     yes\n",
            "d    Anis    NaN         3      no\n",
            "e    Anil    9.0         2      no\n",
            "f  Ashish   20.0         3     yes\n",
            "g   Anahi   14.5         1     yes\n",
            "h    Alia    NaN         1      no\n",
            "i   Alvin    8.0         2      no\n",
            "j    Asim   19.0         1     yes\n"
          ]
        }
      ]
    }
  ]
}